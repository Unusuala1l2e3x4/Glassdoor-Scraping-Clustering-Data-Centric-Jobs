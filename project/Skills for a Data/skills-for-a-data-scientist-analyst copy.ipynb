{
 "cells": [
  {
   "cell_type": "code",
   "execution_count": null,
   "metadata": {
    "_cell_guid": "b1076dfc-b9ad-4769-8c92-a6c4dae69d19",
    "_uuid": "8f2839f25d086af736a60e9eeb907d3b93b6e0e5",
    "execution": {
     "iopub.execute_input": "2022-04-23T00:18:10.851340Z",
     "iopub.status.busy": "2022-04-23T00:18:10.850642Z",
     "iopub.status.idle": "2022-04-23T00:18:10.866792Z",
     "shell.execute_reply": "2022-04-23T00:18:10.866319Z"
    },
    "papermill": {
     "duration": 0.050138,
     "end_time": "2022-04-23T00:18:10.866927",
     "exception": false,
     "start_time": "2022-04-23T00:18:10.816789",
     "status": "completed"
    },
    "tags": []
   },
   "outputs": [],
   "source": [
    "# This Python 3 environment comes with many helpful analytics libraries installed\n",
    "# It is defined by the kaggle/python Docker image: https://github.com/kaggle/docker-python\n",
    "# For example, here's several helpful packages to load\n",
    "\n",
    "import numpy as np # linear algebra\n",
    "import pandas as pd # data processing, CSV file I/O (e.g. pd.read_csv)\n",
    "\n",
    "# Input data files are available in the read-only \"../input/\" directory\n",
    "# For example, running this (by clicking run or pressing Shift+Enter) will list all files under the input directory\n",
    "\n",
    "import os\n",
    "for dirname, _, filenames in os.walk('/kaggle/input'):\n",
    "    for filename in filenames:\n",
    "        print(os.path.join(dirname, filename))\n",
    "\n",
    "# You can write up to 5GB to the current directory (/kaggle/working/) that gets preserved as output when you create a version using \"Save & Run All\" \n",
    "# You can also write temporary files to /kaggle/temp/, but they won't be saved outside of the current session"
   ]
  },
  {
   "cell_type": "markdown",
   "metadata": {
    "papermill": {
     "duration": 0.027345,
     "end_time": "2022-04-23T00:18:10.923388",
     "exception": false,
     "start_time": "2022-04-23T00:18:10.896043",
     "status": "completed"
    },
    "tags": []
   },
   "source": [
    "# Data Job Skills - Building a (Network) Graph\n",
    "\n",
    "## This notebook will seek primarily to analyze the job description field of this dataset.  \n",
    "\n",
    "I want to thank [Kenza's article](https://medium.com/swlh/want-to-become-a-data-analyst-scientist-or-engineer-66902875bf9b) for providing the keywords that made this possible.  "
   ]
  },
  {
   "cell_type": "code",
   "execution_count": null,
   "metadata": {
    "_cell_guid": "79c7e3d0-c299-4dcb-8224-4455121ee9b0",
    "_kg_hide-input": false,
    "_kg_hide-output": false,
    "_uuid": "d629ff2d2480ee46fbb7e2d37f6b5fab8052498a",
    "execution": {
     "iopub.execute_input": "2022-04-23T00:18:10.986623Z",
     "iopub.status.busy": "2022-04-23T00:18:10.986099Z",
     "iopub.status.idle": "2022-04-23T00:18:12.791841Z",
     "shell.execute_reply": "2022-04-23T00:18:12.790791Z"
    },
    "papermill": {
     "duration": 1.840783,
     "end_time": "2022-04-23T00:18:12.791985",
     "exception": false,
     "start_time": "2022-04-23T00:18:10.951202",
     "status": "completed"
    },
    "tags": []
   },
   "outputs": [],
   "source": [
    "jobs = pd.read_csv('/kaggle/input/data-jobs/all_jobs.csv')\n",
    "skills = pd.read_csv('/kaggle/input/data-skills/skills_taxonomy.csv')"
   ]
  },
  {
   "cell_type": "code",
   "execution_count": null,
   "metadata": {
    "execution": {
     "iopub.execute_input": "2022-04-23T00:18:12.850429Z",
     "iopub.status.busy": "2022-04-23T00:18:12.849749Z",
     "iopub.status.idle": "2022-04-23T00:18:12.859991Z",
     "shell.execute_reply": "2022-04-23T00:18:12.859516Z"
    },
    "papermill": {
     "duration": 0.040937,
     "end_time": "2022-04-23T00:18:12.860085",
     "exception": false,
     "start_time": "2022-04-23T00:18:12.819148",
     "status": "completed"
    },
    "tags": []
   },
   "outputs": [],
   "source": [
    "import re\n",
    "import matplotlib.pyplot as plt\n",
    "from mlxtend.frequent_patterns import apriori, association_rules\n",
    "import copy"
   ]
  },
  {
   "cell_type": "code",
   "execution_count": null,
   "metadata": {
    "execution": {
     "iopub.execute_input": "2022-04-23T00:18:12.932663Z",
     "iopub.status.busy": "2022-04-23T00:18:12.929893Z",
     "iopub.status.idle": "2022-04-23T00:18:13.327206Z",
     "shell.execute_reply": "2022-04-23T00:18:13.326605Z"
    },
    "papermill": {
     "duration": 0.440604,
     "end_time": "2022-04-23T00:18:13.327339",
     "exception": false,
     "start_time": "2022-04-23T00:18:12.886735",
     "status": "completed"
    },
    "tags": []
   },
   "outputs": [],
   "source": [
    "jobs.drop('Unnamed: 0', axis = 1, inplace = True)\n",
    "jobs = jobs.drop_duplicates(subset = ['Job Description','Job Title','Location'], keep = 'first') \n"
   ]
  },
  {
   "cell_type": "markdown",
   "metadata": {
    "papermill": {
     "duration": 0.030762,
     "end_time": "2022-04-23T00:18:13.388919",
     "exception": false,
     "start_time": "2022-04-23T00:18:13.358157",
     "status": "completed"
    },
    "tags": []
   },
   "source": [
    "## The data was already pretty clean, thanks [picklesueat](https://github.com/picklesueat/data_jobs_data)! Now we can begin to parse the Job Descriptions"
   ]
  },
  {
   "cell_type": "code",
   "execution_count": null,
   "metadata": {
    "execution": {
     "iopub.execute_input": "2022-04-23T00:18:13.484626Z",
     "iopub.status.busy": "2022-04-23T00:18:13.459316Z",
     "iopub.status.idle": "2022-04-23T00:18:20.377777Z",
     "shell.execute_reply": "2022-04-23T00:18:20.377231Z"
    },
    "papermill": {
     "duration": 6.959206,
     "end_time": "2022-04-23T00:18:20.377932",
     "exception": false,
     "start_time": "2022-04-23T00:18:13.418726",
     "status": "completed"
    },
    "tags": []
   },
   "outputs": [],
   "source": [
    "#Let's remove Capitals\n",
    "jobs['Job Description'] = jobs['Job Description'].str.lower()\n",
    "\n",
    "#Let's remove all non-word charachters\n",
    "\n",
    "regex = re.compile('[^a-zA-Z\\']')\n",
    "\n",
    "jobs['Job Description'] = jobs['Job Description'].apply(lambda x: regex.sub(' ', x))"
   ]
  },
  {
   "cell_type": "code",
   "execution_count": null,
   "metadata": {
    "execution": {
     "iopub.execute_input": "2022-04-23T00:18:20.475208Z",
     "iopub.status.busy": "2022-04-23T00:18:20.465896Z",
     "iopub.status.idle": "2022-04-23T00:18:30.050493Z",
     "shell.execute_reply": "2022-04-23T00:18:30.049450Z"
    },
    "papermill": {
     "duration": 9.642801,
     "end_time": "2022-04-23T00:18:30.050617",
     "exception": false,
     "start_time": "2022-04-23T00:18:20.407816",
     "status": "completed"
    },
    "tags": []
   },
   "outputs": [],
   "source": [
    "#The Equal Oppritunity tagline may skew our results, let's remove it\n",
    "equal_emp = 'Kelly is an equal opportunity employer committed to employing a diverse workforce, including, but not limited to, minorities, females, individuals with disabilities, protected veterans, sexual orientation, gender identity. Equal Employment Opportunity is The Law.'\n",
    "equal_emp = equal_emp.lower().split(' ')\n",
    "\n",
    "jobs['Job Description'] = jobs['Job Description'].apply(lambda x: [item for item in x.split() if item.lower() not in equal_emp])\n",
    "\n",
    "#and then re-join our Job Descriptions\n",
    "jobs['Job Description'] = jobs['Job Description'].apply(lambda x: ' '.join(x))\n"
   ]
  },
  {
   "cell_type": "markdown",
   "metadata": {
    "papermill": {
     "duration": 0.026626,
     "end_time": "2022-04-23T00:18:30.104253",
     "exception": false,
     "start_time": "2022-04-23T00:18:30.077627",
     "status": "completed"
    },
    "tags": []
   },
   "source": [
    "Here we will group the skills into reportable categories"
   ]
  },
  {
   "cell_type": "code",
   "execution_count": null,
   "metadata": {
    "execution": {
     "iopub.execute_input": "2022-04-23T00:18:30.174088Z",
     "iopub.status.busy": "2022-04-23T00:18:30.173239Z",
     "iopub.status.idle": "2022-04-23T00:18:30.175688Z",
     "shell.execute_reply": "2022-04-23T00:18:30.176098Z"
    },
    "papermill": {
     "duration": 0.045442,
     "end_time": "2022-04-23T00:18:30.176221",
     "exception": false,
     "start_time": "2022-04-23T00:18:30.130779",
     "status": "completed"
    },
    "tags": []
   },
   "outputs": [],
   "source": [
    "skill_types= {}\n",
    "\n",
    "skill_types['Statistics'] = ['matlab',\n",
    " 'statistical',\n",
    " 'models',\n",
    " 'modeling',\n",
    " 'statistics',\n",
    " 'analytics',\n",
    " 'forecasting',\n",
    " 'predictive',\n",
    " 'r',\n",
    " 'pandas',\n",
    " 'statistics',\n",
    " 'statistical',\n",
    " 'Julia']\n",
    "\n",
    "skill_types['Machine Learning'] = ['datarobot',\n",
    " 'tensorflow',\n",
    " 'knime',\n",
    " 'rapidminer',\n",
    " 'mahout',\n",
    " 'logicalglue',\n",
    " 'nltk',\n",
    " 'networkx',\n",
    " 'rapidminer',\n",
    " 'scikit',\n",
    " 'pytorch',\n",
    " 'keras',\n",
    " 'caffe',\n",
    " 'weka',\n",
    " 'orange',\n",
    " 'qubole',\n",
    " 'ai',\n",
    " 'nlp',\n",
    " 'ml',\n",
    " 'neuralnetworks',\n",
    " 'deeplearning']\n",
    "\n",
    "\n",
    "skill_types['Data Visualization'] = ['tableau',\n",
    " 'powerpoint',\n",
    " 'Qlik',\n",
    " 'looker',\n",
    " 'powerbi',\n",
    " 'matplotlib',\n",
    " 'tibco',\n",
    " 'bokeh',\n",
    " 'd3',\n",
    " 'octave',\n",
    " 'shiny',\n",
    " 'microstrategy']\n",
    "\n",
    "\n",
    "skill_types['Data Engineering'] = ['etl',\n",
    " 'mining',\n",
    " 'warehousing',\n",
    " 'cloud',\n",
    " 'sap',\n",
    " 'salesforce',\n",
    " 'openrefine',\n",
    " 'redis',\n",
    " 'sybase',\n",
    " 'cassandra',\n",
    " 'msaccess',\n",
    " 'databasemanagement',\n",
    " 'aws',\n",
    " 'ibmcloud',\n",
    " 'azure',\n",
    " 'redshift',\n",
    " 's3',\n",
    " 'ec2',\n",
    " 'rds',\n",
    " 'bigquery',\n",
    " 'googlecloudplatform',\n",
    " 'googlecloudplatform',\n",
    " 'hadoop',\n",
    " 'hive',\n",
    " 'kafka',\n",
    " 'hbase',\n",
    " 'mesos',\n",
    " 'pig',\n",
    " 'storm',\n",
    " 'scala',\n",
    " 'hdfs',\n",
    " 'mapreduce',\n",
    " 'kinesis',\n",
    " 'flink']\n",
    "\n",
    "\n",
    "skill_types['Software Engineer'] = ['java',\n",
    " 'javascript',\n",
    " 'c#',\n",
    " 'c',\n",
    " 'docker',\n",
    " 'ansible',\n",
    " 'jenkins',\n",
    " 'nodejs',\n",
    " 'angularjs',\n",
    " 'css',\n",
    " 'html',\n",
    " 'terraform',\n",
    " 'kubernetes',\n",
    " 'lex',\n",
    " 'perl',\n",
    " 'cplusplus']\n",
    "\n",
    "\n",
    "skill_types['SQL'] = ['sql',\n",
    " 'oracle',\n",
    " 'mysql',\n",
    " 'oraclenosql',\n",
    " 'nosql',\n",
    " 'postgresql',\n",
    " 'plsql',\n",
    " 'mongodb']\n",
    "\n",
    "\n",
    "\n",
    "\n",
    "skill_types['Trait Skills'] = ['Learning',\n",
    " 'TimeManagement',\n",
    " 'AttentiontoDetail',\n",
    " 'ProblemSolving',\n",
    " 'criticalthinking']\n",
    "\n",
    "\n",
    "\n",
    "skill_types['Social Skills']= ['teamwork',\n",
    " 'team'\n",
    " 'communication',\n",
    " 'written',\n",
    " 'verbal',\n",
    " 'writing',\n",
    " 'leadership',\n",
    " 'interpersonal',\n",
    " 'personalmotivation',\n",
    " 'storytelling']\n",
    "\n",
    "skill_types['Business'] = ['excel',\n",
    " 'bi',\n",
    " 'reporting',\n",
    " 'reports',\n",
    " 'dashboards',\n",
    " 'dashboard',\n",
    " 'businessintelligence'\n",
    " 'business']\n",
    "\n",
    "for k,v in skill_types.items():\n",
    "    skill_types[k] = [skill.lower() for skill in skill_types.get(k)]"
   ]
  },
  {
   "cell_type": "markdown",
   "metadata": {
    "papermill": {
     "duration": 0.026525,
     "end_time": "2022-04-23T00:18:30.229504",
     "exception": false,
     "start_time": "2022-04-23T00:18:30.202979",
     "status": "completed"
    },
    "tags": []
   },
   "source": [
    "# Refined Job descriptions\n",
    "\n",
    "## Now that we have our extensive list, we need to use it to modify our Job Descriptions"
   ]
  },
  {
   "cell_type": "code",
   "execution_count": null,
   "metadata": {
    "execution": {
     "iopub.execute_input": "2022-04-23T00:18:30.297018Z",
     "iopub.status.busy": "2022-04-23T00:18:30.296153Z",
     "iopub.status.idle": "2022-04-23T00:18:30.299524Z",
     "shell.execute_reply": "2022-04-23T00:18:30.299037Z"
    },
    "papermill": {
     "duration": 0.04094,
     "end_time": "2022-04-23T00:18:30.299627",
     "exception": false,
     "start_time": "2022-04-23T00:18:30.258687",
     "status": "completed"
    },
    "tags": []
   },
   "outputs": [],
   "source": [
    "def refiner(desc):\n",
    "    desc = desc.split()\n",
    "    \n",
    "    two_word = ''\n",
    "    \n",
    "    newskills = []\n",
    "    \n",
    "    for word in desc:\n",
    "        two_word = two_word + word \n",
    "        for key,value in skill_types.items():\n",
    "            if((word in value) or (two_word in value)):\n",
    "                newskills.append(key)\n",
    "                \n",
    "        #check for the two worders, like 'businessintelligence'        \n",
    "        two_word = word\n",
    "                \n",
    "    return list(set(newskills))"
   ]
  },
  {
   "cell_type": "code",
   "execution_count": null,
   "metadata": {
    "execution": {
     "iopub.execute_input": "2022-04-23T00:18:30.382040Z",
     "iopub.status.busy": "2022-04-23T00:18:30.372840Z",
     "iopub.status.idle": "2022-04-23T00:19:24.913497Z",
     "shell.execute_reply": "2022-04-23T00:19:24.912341Z"
    },
    "papermill": {
     "duration": 54.582787,
     "end_time": "2022-04-23T00:19:24.913636",
     "exception": false,
     "start_time": "2022-04-23T00:18:30.330849",
     "status": "completed"
    },
    "tags": []
   },
   "outputs": [],
   "source": [
    "#Now all we have to do is apply this do our Job Description\n",
    "jobs['refined skills'] = jobs['Job Description'].apply(refiner)"
   ]
  },
  {
   "cell_type": "code",
   "execution_count": null,
   "metadata": {
    "execution": {
     "iopub.execute_input": "2022-04-23T00:19:24.978579Z",
     "iopub.status.busy": "2022-04-23T00:19:24.977777Z",
     "iopub.status.idle": "2022-04-23T00:19:24.981017Z",
     "shell.execute_reply": "2022-04-23T00:19:24.981522Z"
    },
    "papermill": {
     "duration": 0.040223,
     "end_time": "2022-04-23T00:19:24.981628",
     "exception": false,
     "start_time": "2022-04-23T00:19:24.941405",
     "status": "completed"
    },
    "tags": []
   },
   "outputs": [],
   "source": [
    "#This is what our new column looks like\n",
    "jobs['refined skills']"
   ]
  },
  {
   "cell_type": "markdown",
   "metadata": {
    "papermill": {
     "duration": 0.027336,
     "end_time": "2022-04-23T00:19:25.036668",
     "exception": false,
     "start_time": "2022-04-23T00:19:25.009332",
     "status": "completed"
    },
    "tags": []
   },
   "source": [
    "## Great! Everything is ready, now we have our skills for each job description\n",
    "\n",
    "# Apriori Algorithm - Support"
   ]
  },
  {
   "cell_type": "code",
   "execution_count": null,
   "metadata": {
    "execution": {
     "iopub.execute_input": "2022-04-23T00:19:25.098964Z",
     "iopub.status.busy": "2022-04-23T00:19:25.098279Z",
     "iopub.status.idle": "2022-04-23T00:19:25.101494Z",
     "shell.execute_reply": "2022-04-23T00:19:25.101059Z"
    },
    "papermill": {
     "duration": 0.036947,
     "end_time": "2022-04-23T00:19:25.101577",
     "exception": false,
     "start_time": "2022-04-23T00:19:25.064630",
     "status": "completed"
    },
    "tags": []
   },
   "outputs": [],
   "source": [
    "def apriori_df(series, min_support):\n",
    "    lisolis =[]\n",
    "    series.apply(lambda x: lisolis.append(list(x)))\n",
    "    \n",
    "    from mlxtend.preprocessing import TransactionEncoder\n",
    "\n",
    "    te = TransactionEncoder()\n",
    "    te_ary = te.fit(lisolis).transform(lisolis)\n",
    "    df = pd.DataFrame(te_ary, columns=te.columns_)\n",
    "\n",
    "\n",
    "    from mlxtend.frequent_patterns import apriori\n",
    "\n",
    "    freq_itemsets = apriori(df, min_support=min_support, use_colnames=True)\n",
    "    \n",
    "    return freq_itemsets"
   ]
  },
  {
   "cell_type": "code",
   "execution_count": null,
   "metadata": {
    "execution": {
     "iopub.execute_input": "2022-04-23T00:19:25.167684Z",
     "iopub.status.busy": "2022-04-23T00:19:25.161474Z",
     "iopub.status.idle": "2022-04-23T00:19:25.961306Z",
     "shell.execute_reply": "2022-04-23T00:19:25.960470Z"
    },
    "papermill": {
     "duration": 0.830828,
     "end_time": "2022-04-23T00:19:25.961428",
     "exception": false,
     "start_time": "2022-04-23T00:19:25.130600",
     "status": "completed"
    },
    "tags": []
   },
   "outputs": [],
   "source": [
    "frequent_itemsets = apriori_df(jobs['refined skills'],.1)"
   ]
  },
  {
   "cell_type": "code",
   "execution_count": null,
   "metadata": {
    "execution": {
     "iopub.execute_input": "2022-04-23T00:19:26.023396Z",
     "iopub.status.busy": "2022-04-23T00:19:26.022629Z",
     "iopub.status.idle": "2022-04-23T00:19:26.026476Z",
     "shell.execute_reply": "2022-04-23T00:19:26.025997Z"
    },
    "papermill": {
     "duration": 0.036763,
     "end_time": "2022-04-23T00:19:26.026566",
     "exception": false,
     "start_time": "2022-04-23T00:19:25.989803",
     "status": "completed"
    },
    "tags": []
   },
   "outputs": [],
   "source": [
    "frequent_itemsets['length'] = frequent_itemsets['itemsets'].apply(lambda x: len(x))\n"
   ]
  },
  {
   "cell_type": "code",
   "execution_count": null,
   "metadata": {
    "execution": {
     "iopub.execute_input": "2022-04-23T00:19:26.088572Z",
     "iopub.status.busy": "2022-04-23T00:19:26.087920Z",
     "iopub.status.idle": "2022-04-23T00:19:26.357311Z",
     "shell.execute_reply": "2022-04-23T00:19:26.356475Z"
    },
    "papermill": {
     "duration": 0.302868,
     "end_time": "2022-04-23T00:19:26.357422",
     "exception": false,
     "start_time": "2022-04-23T00:19:26.054554",
     "status": "completed"
    },
    "tags": []
   },
   "outputs": [],
   "source": [
    "import seaborn as sns\n",
    "\n",
    "_ = frequent_itemsets[frequent_itemsets['length'] == 1]\n",
    "_['itemsets'] = _['itemsets'].astype(\"unicode\").str.replace('[\\(\\)\\'\\{\\}]|frozenset','', regex = True)\n",
    "ax = sns.barplot(x=\"itemsets\", y=\"support\", data= _);\n",
    "ax.set_xticklabels(ax.get_xticklabels(), rotation=75);\n"
   ]
  },
  {
   "cell_type": "markdown",
   "metadata": {
    "papermill": {
     "duration": 0.029386,
     "end_time": "2022-04-23T00:19:26.417090",
     "exception": false,
     "start_time": "2022-04-23T00:19:26.387704",
     "status": "completed"
    },
    "tags": []
   },
   "source": [
    "## Although this tells us a lot, let's break this down by job, and try again\n"
   ]
  },
  {
   "cell_type": "code",
   "execution_count": null,
   "metadata": {
    "execution": {
     "iopub.execute_input": "2022-04-23T00:19:26.480365Z",
     "iopub.status.busy": "2022-04-23T00:19:26.479656Z",
     "iopub.status.idle": "2022-04-23T00:19:26.482832Z",
     "shell.execute_reply": "2022-04-23T00:19:26.482313Z"
    },
    "papermill": {
     "duration": 0.035915,
     "end_time": "2022-04-23T00:19:26.482963",
     "exception": false,
     "start_time": "2022-04-23T00:19:26.447048",
     "status": "completed"
    },
    "tags": []
   },
   "outputs": [],
   "source": [
    "temp = pd.DataFrame()"
   ]
  },
  {
   "cell_type": "code",
   "execution_count": null,
   "metadata": {
    "execution": {
     "iopub.execute_input": "2022-04-23T00:19:26.545307Z",
     "iopub.status.busy": "2022-04-23T00:19:26.544745Z",
     "iopub.status.idle": "2022-04-23T00:19:26.548451Z",
     "shell.execute_reply": "2022-04-23T00:19:26.548016Z"
    },
    "papermill": {
     "duration": 0.036392,
     "end_time": "2022-04-23T00:19:26.548532",
     "exception": false,
     "start_time": "2022-04-23T00:19:26.512140",
     "status": "completed"
    },
    "tags": []
   },
   "outputs": [],
   "source": [
    "jobtypes = ['Data Analyst','Business Analyst','Data Scientist']"
   ]
  },
  {
   "cell_type": "code",
   "execution_count": null,
   "metadata": {
    "execution": {
     "iopub.execute_input": "2022-04-23T00:19:26.633337Z",
     "iopub.status.busy": "2022-04-23T00:19:26.614173Z",
     "iopub.status.idle": "2022-04-23T00:19:26.694831Z",
     "shell.execute_reply": "2022-04-23T00:19:26.695401Z"
    },
    "papermill": {
     "duration": 0.117948,
     "end_time": "2022-04-23T00:19:26.695555",
     "exception": false,
     "start_time": "2022-04-23T00:19:26.577607",
     "status": "completed"
    },
    "tags": []
   },
   "outputs": [],
   "source": [
    "#If it contains Data and Analyst we will classify that as Data Analyst\n",
    "data_analyst = jobs[(jobs['Job Title'].str.contains('[Aa]nalyst', flags=re.IGNORECASE)) & (jobs['Job Title'].str.contains('[dD]ata ', flags=re.IGNORECASE))]\n",
    "data_analyst['jobtype'] = jobtypes[0]\n",
    "temp = temp.append(data_analyst)"
   ]
  },
  {
   "cell_type": "code",
   "execution_count": null,
   "metadata": {
    "execution": {
     "iopub.execute_input": "2022-04-23T00:19:26.774226Z",
     "iopub.status.busy": "2022-04-23T00:19:26.763990Z",
     "iopub.status.idle": "2022-04-23T00:19:26.876626Z",
     "shell.execute_reply": "2022-04-23T00:19:26.877189Z"
    },
    "papermill": {
     "duration": 0.150746,
     "end_time": "2022-04-23T00:19:26.877346",
     "exception": false,
     "start_time": "2022-04-23T00:19:26.726600",
     "status": "completed"
    },
    "tags": []
   },
   "outputs": [],
   "source": [
    "business_analyst = jobs[(jobs['Job Title'].str.contains('[Aa]nalyst|[Ii]ntelligence|BI', regex = True, flags=re.IGNORECASE)) & (jobs['Job Title'].str.contains('Business |BI', flags=re.IGNORECASE))]\n",
    "business_analyst['jobtype'] = jobtypes[1]\n",
    "temp = temp.append(business_analyst)"
   ]
  },
  {
   "cell_type": "code",
   "execution_count": null,
   "metadata": {
    "execution": {
     "iopub.execute_input": "2022-04-23T00:19:26.967251Z",
     "iopub.status.busy": "2022-04-23T00:19:26.946774Z",
     "iopub.status.idle": "2022-04-23T00:19:27.088277Z",
     "shell.execute_reply": "2022-04-23T00:19:27.087809Z"
    },
    "papermill": {
     "duration": 0.179148,
     "end_time": "2022-04-23T00:19:27.088383",
     "exception": false,
     "start_time": "2022-04-23T00:19:26.909235",
     "status": "completed"
    },
    "tags": []
   },
   "outputs": [],
   "source": [
    "data_scientist = jobs[(jobs['Job Title'].str.contains('[Ss]cientist|Science', regex = True, flags=re.IGNORECASE)) & (jobs['Job Title'].str.contains('[dD]ata ', flags=re.IGNORECASE))]\n",
    "data_scientist['jobtype'] = jobtypes[2]\n",
    "temp = temp.append(data_scientist)"
   ]
  },
  {
   "cell_type": "code",
   "execution_count": null,
   "metadata": {
    "execution": {
     "iopub.execute_input": "2022-04-23T00:19:27.156447Z",
     "iopub.status.busy": "2022-04-23T00:19:27.155662Z",
     "iopub.status.idle": "2022-04-23T00:19:27.158508Z",
     "shell.execute_reply": "2022-04-23T00:19:27.158091Z"
    },
    "papermill": {
     "duration": 0.039528,
     "end_time": "2022-04-23T00:19:27.158601",
     "exception": false,
     "start_time": "2022-04-23T00:19:27.119073",
     "status": "completed"
    },
    "tags": []
   },
   "outputs": [],
   "source": [
    "jobs = temp"
   ]
  },
  {
   "cell_type": "code",
   "execution_count": null,
   "metadata": {
    "execution": {
     "iopub.execute_input": "2022-04-23T00:19:27.226081Z",
     "iopub.status.busy": "2022-04-23T00:19:27.225135Z",
     "iopub.status.idle": "2022-04-23T00:19:27.235426Z",
     "shell.execute_reply": "2022-04-23T00:19:27.234900Z"
    },
    "papermill": {
     "duration": 0.045712,
     "end_time": "2022-04-23T00:19:27.235515",
     "exception": false,
     "start_time": "2022-04-23T00:19:27.189803",
     "status": "completed"
    },
    "tags": []
   },
   "outputs": [],
   "source": [
    "jobs.reset_index(inplace = True)\n",
    "jobs.drop(['index'], axis =1, inplace = True)"
   ]
  },
  {
   "cell_type": "markdown",
   "metadata": {
    "papermill": {
     "duration": 0.031028,
     "end_time": "2022-04-23T00:19:27.297949",
     "exception": false,
     "start_time": "2022-04-23T00:19:27.266921",
     "status": "completed"
    },
    "tags": []
   },
   "source": [
    "## Re-run apriori and put up chart 2.0"
   ]
  },
  {
   "cell_type": "code",
   "execution_count": null,
   "metadata": {
    "execution": {
     "iopub.execute_input": "2022-04-23T00:19:27.368396Z",
     "iopub.status.busy": "2022-04-23T00:19:27.367543Z",
     "iopub.status.idle": "2022-04-23T00:19:27.483288Z",
     "shell.execute_reply": "2022-04-23T00:19:27.482626Z"
    },
    "papermill": {
     "duration": 0.154457,
     "end_time": "2022-04-23T00:19:27.483385",
     "exception": false,
     "start_time": "2022-04-23T00:19:27.328928",
     "status": "completed"
    },
    "tags": []
   },
   "outputs": [],
   "source": [
    "# We want to retain the categories we just made, run apriori, and then recombine them\n",
    "frequent_itemsets = pd.DataFrame()\n",
    "\n",
    "\n",
    "for job in jobtypes:\n",
    "    temp_frequent_itemsets = apriori_df(jobs.loc[jobs['jobtype'] == job,'refined skills'],.02)\n",
    "    temp_frequent_itemsets['jobtype'] = job\n",
    "    frequent_itemsets = frequent_itemsets.append(temp_frequent_itemsets)\n",
    "\n",
    "\n",
    "\n"
   ]
  },
  {
   "cell_type": "code",
   "execution_count": null,
   "metadata": {
    "execution": {
     "iopub.execute_input": "2022-04-23T00:19:27.556474Z",
     "iopub.status.busy": "2022-04-23T00:19:27.555731Z",
     "iopub.status.idle": "2022-04-23T00:19:27.566534Z",
     "shell.execute_reply": "2022-04-23T00:19:27.566108Z"
    },
    "papermill": {
     "duration": 0.052015,
     "end_time": "2022-04-23T00:19:27.566625",
     "exception": false,
     "start_time": "2022-04-23T00:19:27.514610",
     "status": "completed"
    },
    "tags": []
   },
   "outputs": [],
   "source": [
    "frequent_itemsets"
   ]
  },
  {
   "cell_type": "code",
   "execution_count": null,
   "metadata": {
    "execution": {
     "iopub.execute_input": "2022-04-23T00:19:27.636342Z",
     "iopub.status.busy": "2022-04-23T00:19:27.635771Z",
     "iopub.status.idle": "2022-04-23T00:19:27.639561Z",
     "shell.execute_reply": "2022-04-23T00:19:27.639151Z"
    },
    "papermill": {
     "duration": 0.040793,
     "end_time": "2022-04-23T00:19:27.639650",
     "exception": false,
     "start_time": "2022-04-23T00:19:27.598857",
     "status": "completed"
    },
    "tags": []
   },
   "outputs": [],
   "source": [
    "frequent_itemsets['length'] = frequent_itemsets['itemsets'].apply(lambda x: len(x))"
   ]
  },
  {
   "cell_type": "code",
   "execution_count": null,
   "metadata": {
    "execution": {
     "iopub.execute_input": "2022-04-23T00:19:27.715461Z",
     "iopub.status.busy": "2022-04-23T00:19:27.714601Z",
     "iopub.status.idle": "2022-04-23T00:19:35.089608Z",
     "shell.execute_reply": "2022-04-23T00:19:35.089109Z"
    },
    "papermill": {
     "duration": 7.418163,
     "end_time": "2022-04-23T00:19:35.089715",
     "exception": false,
     "start_time": "2022-04-23T00:19:27.671552",
     "status": "completed"
    },
    "tags": []
   },
   "outputs": [],
   "source": [
    "single_items = frequent_itemsets[frequent_itemsets['length'] == 1]\n",
    "single_items['itemsets'] = single_items['itemsets'].astype(\"unicode\").str.replace('[\\(\\)\\'\\{\\}]|frozenset','', regex = True)\n",
    "single_items['itemsets'] = single_items['itemsets'].str.replace(' ','\\n', regex = True)\n",
    "plt.figure(figsize =(25, 20)) \n",
    "\n",
    "plt.title('Chance of a skill appearing in a given Job Description', size = 35)\n",
    "ax = sns.barplot(x=\"itemsets\", y=\"support\", hue = 'jobtype', data= single_items);\n",
    "ax.set_xticklabels(ax.get_xticklabels(), rotation=25, size =20);\n",
    "ax.set_yticklabels([0,0.2,0.4,0.6,0.8], size =25);\n",
    "plt.xlabel('Skill', size = 20)\n",
    "ax.legend(fontsize = 20, frameon= False)\n",
    "plt.ylabel('Probability', size = 22)\n",
    "plt.savefig('chart1.png', dpi = 500, format = 'png')"
   ]
  },
  {
   "cell_type": "markdown",
   "metadata": {
    "papermill": {
     "duration": 0.035323,
     "end_time": "2022-04-23T00:19:35.160447",
     "exception": false,
     "start_time": "2022-04-23T00:19:35.125124",
     "status": "completed"
    },
    "tags": []
   },
   "source": [
    "## Let's note a few things\n",
    "\n",
    "*The support tells you the probability of that item (which actually represents a group of items, see above) is seen in a Job Description*\n",
    "\n",
    "\n",
    "### **There are a lot of things we would expect**\n",
    "* ML has a huge role in DS, but not in DA\n",
    "* The primary skills for BA are Business and Social Skills\n",
    "* The highest Data Visualization is seen in DA's\n",
    "* The highest SWE is seen in DS\n",
    "\n",
    "### **A few interesting things**\n",
    "* The difference in Data Visualization across jobs is small compared to other itemsets across jobs\n",
    "* Statistics knowledge is hugely correlated to job type \n",
    "* Trait Skills are much more important in DS jobs, where's social skills are slightly (slightly) less important\n",
    "* DA's use business knowledge more than BA or DS\n",
    "\n",
    "### Conclusions\n",
    "That's up to you, although this chart clearly shows the difference between BA,DA,DS is not just semantic.  I'd rather work on getting more prescriptive advice. \n",
    "\n",
    "\n",
    "## Now I hear you saying, 'what a beautiful chart, it couldn't get any better', but there is one (or more) problems with the above chart:\n",
    "Let's say you want to be a DA so you work on your Data Viz, and your SQL skills since they are some of the highest at 40% and 60% respectivly, but then you go to apply to jobs and 40% of the roles contain Data Viz, and 60% SQL, but there is no overlap between which jobs contain each!!  SQL and Data Viz are only listed separately, and therefore you're not qualified for any of the jobs.\n",
    "We need a way to determine the strength of the connections between these items, and then also a  way to visualize that...\n"
   ]
  },
  {
   "cell_type": "markdown",
   "metadata": {
    "papermill": {
     "duration": 0.034494,
     "end_time": "2022-04-23T00:19:35.229558",
     "exception": false,
     "start_time": "2022-04-23T00:19:35.195064",
     "status": "completed"
    },
    "tags": []
   },
   "source": [
    "# Apriori Metrics: Conviction\n",
    "\n",
    "I'm just going to get the metric, and visualize it first  \n",
    "\n",
    "Let's start with our Goldilocks, the DA"
   ]
  },
  {
   "cell_type": "code",
   "execution_count": null,
   "metadata": {
    "execution": {
     "iopub.execute_input": "2022-04-23T00:19:35.302270Z",
     "iopub.status.busy": "2022-04-23T00:19:35.301555Z",
     "iopub.status.idle": "2022-04-23T00:19:35.724982Z",
     "shell.execute_reply": "2022-04-23T00:19:35.723511Z"
    },
    "papermill": {
     "duration": 0.4615,
     "end_time": "2022-04-23T00:19:35.725101",
     "exception": false,
     "start_time": "2022-04-23T00:19:35.263601",
     "status": "completed"
    },
    "tags": []
   },
   "outputs": [],
   "source": [
    "import networkx as nx "
   ]
  },
  {
   "cell_type": "code",
   "execution_count": null,
   "metadata": {
    "execution": {
     "iopub.execute_input": "2022-04-23T00:19:35.798655Z",
     "iopub.status.busy": "2022-04-23T00:19:35.796834Z",
     "iopub.status.idle": "2022-04-23T00:19:35.799282Z",
     "shell.execute_reply": "2022-04-23T00:19:35.799703Z"
    },
    "papermill": {
     "duration": 0.040522,
     "end_time": "2022-04-23T00:19:35.799814",
     "exception": false,
     "start_time": "2022-04-23T00:19:35.759292",
     "status": "completed"
    },
    "tags": []
   },
   "outputs": [],
   "source": [
    "typ = 'Data Analyst'"
   ]
  },
  {
   "cell_type": "code",
   "execution_count": null,
   "metadata": {
    "execution": {
     "iopub.execute_input": "2022-04-23T00:19:35.875179Z",
     "iopub.status.busy": "2022-04-23T00:19:35.874353Z",
     "iopub.status.idle": "2022-04-23T00:19:35.916261Z",
     "shell.execute_reply": "2022-04-23T00:19:35.915406Z"
    },
    "papermill": {
     "duration": 0.08239,
     "end_time": "2022-04-23T00:19:35.916364",
     "exception": false,
     "start_time": "2022-04-23T00:19:35.833974",
     "status": "completed"
    },
    "tags": []
   },
   "outputs": [],
   "source": [
    "rules = association_rules(apriori_df(jobs.loc[jobs['jobtype'] == typ,'refined skills'],.2), metric=\"conviction\", min_threshold=1.4)"
   ]
  },
  {
   "cell_type": "code",
   "execution_count": null,
   "metadata": {
    "execution": {
     "iopub.execute_input": "2022-04-23T00:19:36.012404Z",
     "iopub.status.busy": "2022-04-23T00:19:36.010849Z",
     "iopub.status.idle": "2022-04-23T00:19:36.015223Z",
     "shell.execute_reply": "2022-04-23T00:19:36.015636Z"
    },
    "papermill": {
     "duration": 0.065276,
     "end_time": "2022-04-23T00:19:36.015741",
     "exception": false,
     "start_time": "2022-04-23T00:19:35.950465",
     "status": "completed"
    },
    "tags": []
   },
   "outputs": [],
   "source": [
    "# 1 to 1 \n",
    "rules['alength'] = rules['antecedents'].apply(lambda x: len(x))\n",
    "rules['clength'] = rules['consequents'].apply(lambda x: len(x))\n",
    "rules = rules[(rules['alength'] == 1) & (rules['clength'] == 1)]\n",
    "rules['antecedents'] = rules['antecedents'].astype(\"unicode\").str.replace('[\\(\\)\\'\\{\\}]|frozenset','', regex = True)\n",
    "rules['antecedents'] = rules['antecedents'].str.replace(' ','\\n', regex = True)\n",
    "rules['consequents'] = rules['consequents'].astype(\"unicode\").str.replace('[\\(\\)\\'\\{\\}]|frozenset','', regex = True)\n",
    "rules['consequents'] = rules['consequents'].str.replace(' ','\\n', regex = True)\n",
    "rules"
   ]
  },
  {
   "cell_type": "code",
   "execution_count": null,
   "metadata": {
    "execution": {
     "iopub.execute_input": "2022-04-23T00:19:36.099621Z",
     "iopub.status.busy": "2022-04-23T00:19:36.098688Z",
     "iopub.status.idle": "2022-04-23T00:19:36.102289Z",
     "shell.execute_reply": "2022-04-23T00:19:36.102739Z"
    },
    "papermill": {
     "duration": 0.05231,
     "end_time": "2022-04-23T00:19:36.102839",
     "exception": false,
     "start_time": "2022-04-23T00:19:36.050529",
     "status": "completed"
    },
    "tags": []
   },
   "outputs": [],
   "source": [
    "rules.sort_values(by = 'conviction')"
   ]
  },
  {
   "cell_type": "code",
   "execution_count": null,
   "metadata": {
    "execution": {
     "iopub.execute_input": "2022-04-23T00:19:36.180050Z",
     "iopub.status.busy": "2022-04-23T00:19:36.179502Z",
     "iopub.status.idle": "2022-04-23T00:19:36.183133Z",
     "shell.execute_reply": "2022-04-23T00:19:36.182664Z"
    },
    "papermill": {
     "duration": 0.044709,
     "end_time": "2022-04-23T00:19:36.183223",
     "exception": false,
     "start_time": "2022-04-23T00:19:36.138514",
     "status": "completed"
    },
    "tags": []
   },
   "outputs": [],
   "source": [
    "#Make some edges, now that we've run apriori\n",
    "weighted_edges = []\n",
    "\n",
    "for x in range(len(rules)):\n",
    "    weighted_edges.append((rules.iloc[x,0], rules.iloc[x,1], rules.iloc[x,8]))"
   ]
  },
  {
   "cell_type": "code",
   "execution_count": null,
   "metadata": {
    "execution": {
     "iopub.execute_input": "2022-04-23T00:19:36.258430Z",
     "iopub.status.busy": "2022-04-23T00:19:36.257598Z",
     "iopub.status.idle": "2022-04-23T00:19:36.259284Z",
     "shell.execute_reply": "2022-04-23T00:19:36.259702Z"
    },
    "papermill": {
     "duration": 0.041162,
     "end_time": "2022-04-23T00:19:36.259801",
     "exception": false,
     "start_time": "2022-04-23T00:19:36.218639",
     "status": "completed"
    },
    "tags": []
   },
   "outputs": [],
   "source": [
    "G = nx.DiGraph() \n",
    "G.add_weighted_edges_from(weighted_edges)"
   ]
  },
  {
   "cell_type": "code",
   "execution_count": null,
   "metadata": {
    "execution": {
     "iopub.execute_input": "2022-04-23T00:19:36.340897Z",
     "iopub.status.busy": "2022-04-23T00:19:36.339026Z",
     "iopub.status.idle": "2022-04-23T00:19:36.341537Z",
     "shell.execute_reply": "2022-04-23T00:19:36.341987Z"
    },
    "papermill": {
     "duration": 0.046607,
     "end_time": "2022-04-23T00:19:36.342091",
     "exception": false,
     "start_time": "2022-04-23T00:19:36.295484",
     "status": "completed"
    },
    "tags": []
   },
   "outputs": [],
   "source": [
    "#Change node size according to support\n",
    "for i in list(G.nodes()): \n",
    "    G.nodes[i]['support'] = single_items.loc[(single_items['jobtype'] == typ) & (single_items['itemsets'] == i), 'support'].values\n"
   ]
  },
  {
   "cell_type": "code",
   "execution_count": null,
   "metadata": {
    "execution": {
     "iopub.execute_input": "2022-04-23T00:19:36.419080Z",
     "iopub.status.busy": "2022-04-23T00:19:36.418436Z",
     "iopub.status.idle": "2022-04-23T00:19:36.421315Z",
     "shell.execute_reply": "2022-04-23T00:19:36.420757Z"
    },
    "papermill": {
     "duration": 0.043657,
     "end_time": "2022-04-23T00:19:36.421409",
     "exception": false,
     "start_time": "2022-04-23T00:19:36.377752",
     "status": "completed"
    },
    "tags": []
   },
   "outputs": [],
   "source": [
    "node_size = [50000*nx.get_node_attributes(G, 'support')[v] for v in G] \n",
    "edge_width = [(G[u][v]['weight']- 1)*12 if((G[u][v]['weight']- 1) > .4) else 0 for u, v in G.edges() ]\n"
   ]
  },
  {
   "cell_type": "code",
   "execution_count": null,
   "metadata": {
    "execution": {
     "iopub.execute_input": "2022-04-23T00:19:36.504486Z",
     "iopub.status.busy": "2022-04-23T00:19:36.503499Z",
     "iopub.status.idle": "2022-04-23T00:19:36.769585Z",
     "shell.execute_reply": "2022-04-23T00:19:36.770029Z"
    },
    "papermill": {
     "duration": 0.312526,
     "end_time": "2022-04-23T00:19:36.770151",
     "exception": false,
     "start_time": "2022-04-23T00:19:36.457625",
     "status": "completed"
    },
    "tags": []
   },
   "outputs": [],
   "source": [
    "pos = nx.circular_layout(G)\n",
    "plt.figure(figsize=(20,20))\n",
    "\n",
    "pos_shadow = copy.deepcopy(pos)\n",
    "shift_amount = 0.008\n",
    "for idx in pos_shadow:\n",
    "    pos_shadow[idx][0] += shift_amount\n",
    "    pos_shadow[idx][1] -= shift_amount\n",
    "\n",
    "nx.draw_networkx_nodes(G, pos_shadow, node_color='k', alpha=0.3,  node_size = node_size)    \n",
    "    \n",
    "nx.draw_networkx_nodes(G, pos, with_label = True, node_size = node_size,connectionstyle='arc3, rad = .03',arrowsize=60, width = edge_width)\n",
    "\n",
    "nx.draw_networkx_labels(G, pos, with_label = True, node_size = node_size,connectionstyle='arc3, rad = .03',arrowsize=60, size = 25, width = edge_width)\n",
    "\n",
    "nx.draw_networkx_edges(G, pos, with_label = True, node_size = node_size,connectionstyle='arc3, rad = .03',arrowsize=60, width = edge_width)\n",
    "plt.title('Data Analyst Skills', size = 50)\n",
    "plt.axis('off')\n",
    "plt.plot();"
   ]
  },
  {
   "cell_type": "code",
   "execution_count": null,
   "metadata": {
    "execution": {
     "iopub.execute_input": "2022-04-23T00:19:36.873770Z",
     "iopub.status.busy": "2022-04-23T00:19:36.871897Z",
     "iopub.status.idle": "2022-04-23T00:19:36.874414Z",
     "shell.execute_reply": "2022-04-23T00:19:36.874820Z"
    },
    "papermill": {
     "duration": 0.0652,
     "end_time": "2022-04-23T00:19:36.874951",
     "exception": false,
     "start_time": "2022-04-23T00:19:36.809751",
     "status": "completed"
    },
    "tags": []
   },
   "outputs": [],
   "source": [
    "def make_network_graph(jobtype, min_conviction):\n",
    "    rules = association_rules(apriori_df(jobs.loc[jobs['jobtype'] == jobtype,'refined skills'],.15), metric=\"conviction\", min_threshold=.5)\n",
    "    # 1 to 1 \n",
    "    rules['alength'] = rules['antecedents'].apply(lambda x: len(x))\n",
    "    rules['clength'] = rules['consequents'].apply(lambda x: len(x))\n",
    "    rules = rules[(rules['alength'] == 1) & (rules['clength'] == 1)]\n",
    "    rules['antecedents'] = rules['antecedents'].astype(\"unicode\").str.replace('[\\(\\)\\'\\{\\}]|frozenset','', regex = True)\n",
    "    rules['antecedents'] = rules['antecedents'].str.replace(' ','\\n', regex = True)\n",
    "    rules['consequents'] = rules['consequents'].astype(\"unicode\").str.replace('[\\(\\)\\'\\{\\}]|frozenset','', regex = True)\n",
    "    rules['consequents'] = rules['consequents'].str.replace(' ','\\n', regex = True)\n",
    "\n",
    "\n",
    "    #Make some edges, now that we've run apriori\n",
    "    weighted_edges = []\n",
    "\n",
    "    G = nx.DiGraph()\n",
    "    \n",
    "    for x in range(len(rules)):\n",
    "        if(rules.iloc[x,8] > min_conviction):\n",
    "            weighted_edges.append((rules.iloc[x,0], rules.iloc[x,1], rules.iloc[x,8]))\n",
    "        \n",
    "        else:\n",
    "            G.add_node(rules.iloc[x,1])\n",
    "            G.add_node(rules.iloc[x,0])\n",
    "        \n",
    "        \n",
    "     \n",
    "    G.add_weighted_edges_from(weighted_edges)\n",
    "    \n",
    "    #Change node size according to support\n",
    "    for i in list(G.nodes()): \n",
    "        G.nodes[i]['support'] = single_items.loc[(single_items['jobtype'] == jobtype) & (single_items['itemsets'] == i), 'support'].values\n",
    "        \n",
    "    node_size = [60000*nx.get_node_attributes(G, 'support')[v] for v in G] \n",
    "    edge_width = [(G[u][v]['weight']- 1)*10.5 if((G[u][v]['weight']- 1) > .1) else 0 for u, v in G.edges() ]\n",
    "\n",
    "    pos = nx.circular_layout(G)\n",
    "    plt.figure(figsize=(27,22))\n",
    "\n",
    "\n",
    "    pos_shadow = copy.deepcopy(pos)\n",
    "    shift_amount = 0.008\n",
    "    for idx in pos_shadow:\n",
    "        pos_shadow[idx][0] += shift_amount\n",
    "        pos_shadow[idx][1] -= shift_amount\n",
    "\n",
    "    nx.draw_networkx_nodes(G, pos_shadow, node_color='k', alpha=0.3,  node_size = node_size)   \n",
    "\n",
    "    nx.draw_networkx_nodes(G, pos, with_label = True, node_size = node_size,connectionstyle='arc3, rad = .03',arrowsize=60, width = edge_width)\n",
    "\n",
    "    nx.draw_networkx_labels(G, pos, with_label = True, node_size = node_size,connectionstyle='arc3, rad = .03',arrowsize=60, size = 20, font_size = 28, width = edge_width, font_weight = 'bold', font_color = 'darkorange')\n",
    "\n",
    "    nx.draw_networkx_edges(G, pos, with_label = True, node_size = node_size,connectionstyle='arc3, rad = .03',arrowsize=60, width = edge_width)\n",
    "    plt.title(jobtype + ' Skills', size = 50)\n",
    "    plt.axis('off')\n",
    "    plt.plot();"
   ]
  },
  {
   "cell_type": "markdown",
   "metadata": {
    "papermill": {
     "duration": 0.038704,
     "end_time": "2022-04-23T00:19:36.952388",
     "exception": false,
     "start_time": "2022-04-23T00:19:36.913684",
     "status": "completed"
    },
    "tags": []
   },
   "source": [
    "# Results\n",
    "\n",
    "## How do I read these\n",
    "\n",
    "### **Intuitively**\n",
    "The size of the node tells you the probability of that word appearing in a Job Description.\n",
    "\n",
    "The width of an arrow tells you the probability that if that word appears in a Job Description, the node it's pointing to will appear as well.\n",
    "\n",
    "The arrows tell you what skill implies another, so if a node has many arrows pointing to it, then it is useful in all subtypes of that job.  \n",
    "\n",
    "If you have a skill, use the arrows to see what other skills you should learn. If you get to a dead end node, then you can start looking at the arrows that point to it as new skills to branch out to.\n",
    "\n",
    "I want to note here, if you're familiar with apriori you will see that I haven't included any multi-item sets.  This makes it dangerous to go from one arrow to the next to the next, so be careful thinking about large chanins.  Because we can run into the same problem I talked about above.\n",
    "\n",
    "### **Mathematically**\n",
    "\n",
    "First let's look at two other measures\n",
    "\n",
    "Confidence:\n",
    "\n",
    "### $\\text{confidence}(A\\rightarrow B) = \\frac{P(A \\cap B)}{P(A)}, \\;\\;\\; \\text{range: } [0, 1]$\n",
    "\n",
    "This tells us how often A and B occur over how often A occurs.  Note it doesn't take into account P(B), for this we use lift\n",
    "\n",
    "### $\\text{lift}(A\\rightarrow B) = \\frac{P(A \\cap B)}{P(A)P(B)}, \\;\\;\\; \\text{range: } [0, \\infty]$\n",
    "\n",
    "This tells us how often A and  B occur together over how often we would expect them to occur together.  However, if P(A) is small and P(B) big, it may be that most A's include B, but because B is so large the lift is low.  Look for example at Data Visualization and Business in the BA chart below.  \n",
    "We want something that combines confidence and lift, this is conviction.\n",
    "\n",
    "Conviction is defined as: \n",
    "### $\\text{conviction}(A\\rightarrow B) = \\frac{P(A) P(-B)}{P(A \\cap -B)}, \\;\\;\\; \\text{range: } [0, \\infty]$\n",
    "\n",
    "This solves the problem of the last example, because if most A's include B the conviction will capture this measure.  Consult [here]( https://michael.hahsler.net/research/association_rules/measures.html#conviction) for a better explanation. \n",
    "\n"
   ]
  },
  {
   "cell_type": "code",
   "execution_count": null,
   "metadata": {
    "execution": {
     "iopub.execute_input": "2022-04-23T00:19:37.039596Z",
     "iopub.status.busy": "2022-04-23T00:19:37.038758Z",
     "iopub.status.idle": "2022-04-23T00:19:37.399991Z",
     "shell.execute_reply": "2022-04-23T00:19:37.400417Z"
    },
    "papermill": {
     "duration": 0.408659,
     "end_time": "2022-04-23T00:19:37.400539",
     "exception": false,
     "start_time": "2022-04-23T00:19:36.991880",
     "status": "completed"
    },
    "tags": []
   },
   "outputs": [],
   "source": [
    "make_network_graph(jobtypes[1],1.4)"
   ]
  },
  {
   "cell_type": "markdown",
   "metadata": {
    "papermill": {
     "duration": 0.042186,
     "end_time": "2022-04-23T00:19:37.485987",
     "exception": false,
     "start_time": "2022-04-23T00:19:37.443801",
     "status": "completed"
    },
    "tags": []
   },
   "source": [
    "Hopefully this speaks for itself.  "
   ]
  },
  {
   "cell_type": "code",
   "execution_count": null,
   "metadata": {
    "execution": {
     "iopub.execute_input": "2022-04-23T00:19:37.596105Z",
     "iopub.status.busy": "2022-04-23T00:19:37.586684Z",
     "iopub.status.idle": "2022-04-23T00:19:37.995377Z",
     "shell.execute_reply": "2022-04-23T00:19:37.995857Z"
    },
    "papermill": {
     "duration": 0.467348,
     "end_time": "2022-04-23T00:19:37.996019",
     "exception": false,
     "start_time": "2022-04-23T00:19:37.528671",
     "status": "completed"
    },
    "tags": []
   },
   "outputs": [],
   "source": [
    "make_network_graph(jobtypes[0],1.45)\n",
    "plt.savefig('DAgraph.svg', format='svg', dpi=1200)"
   ]
  },
  {
   "cell_type": "markdown",
   "metadata": {
    "papermill": {
     "duration": 0.049813,
     "end_time": "2022-04-23T00:19:38.097160",
     "exception": false,
     "start_time": "2022-04-23T00:19:38.047347",
     "status": "completed"
    },
    "tags": []
   },
   "source": [
    "Note things that only have outward arrows, this means it cannot be used on its own  \n",
    "\n",
    "Also, note the change in relative size of the statistics and business nodes"
   ]
  },
  {
   "cell_type": "code",
   "execution_count": null,
   "metadata": {
    "execution": {
     "iopub.execute_input": "2022-04-23T00:19:38.210278Z",
     "iopub.status.busy": "2022-04-23T00:19:38.209303Z",
     "iopub.status.idle": "2022-04-23T00:19:38.693781Z",
     "shell.execute_reply": "2022-04-23T00:19:38.694241Z"
    },
    "papermill": {
     "duration": 0.547222,
     "end_time": "2022-04-23T00:19:38.694383",
     "exception": false,
     "start_time": "2022-04-23T00:19:38.147161",
     "status": "completed"
    },
    "tags": []
   },
   "outputs": [],
   "source": [
    "make_network_graph(jobtypes[2],1.6)\n",
    "plt.savefig('DSgraph.svg', format='svg', dpi=1200)"
   ]
  },
  {
   "cell_type": "markdown",
   "metadata": {
    "papermill": {
     "duration": 0.052144,
     "end_time": "2022-04-23T00:19:38.798125",
     "exception": false,
     "start_time": "2022-04-23T00:19:38.745981",
     "status": "completed"
    },
    "tags": []
   },
   "source": [
    "## Thank you for reading, I hope this was helpful.  \n"
   ]
  },
  {
   "cell_type": "code",
   "execution_count": null,
   "metadata": {
    "papermill": {
     "duration": 0.05045,
     "end_time": "2022-04-23T00:19:38.899298",
     "exception": false,
     "start_time": "2022-04-23T00:19:38.848848",
     "status": "completed"
    },
    "tags": []
   },
   "outputs": [],
   "source": []
  }
 ],
 "metadata": {
  "kernelspec": {
   "display_name": "Python 3",
   "language": "python",
   "name": "python3"
  },
  "language_info": {
   "codemirror_mode": {
    "name": "ipython",
    "version": 3
   },
   "file_extension": ".py",
   "mimetype": "text/x-python",
   "name": "python",
   "nbconvert_exporter": "python",
   "pygments_lexer": "ipython3",
   "version": "3.7.6"
  },
  "papermill": {
   "duration": 92.751383,
   "end_time": "2022-04-23T00:19:39.982346",
   "environment_variables": {},
   "exception": null,
   "input_path": "__notebook__.ipynb",
   "output_path": "__notebook__.ipynb",
   "parameters": {},
   "start_time": "2022-04-23T00:18:07.230963",
   "version": "2.1.0"
  }
 },
 "nbformat": 4,
 "nbformat_minor": 4
}
